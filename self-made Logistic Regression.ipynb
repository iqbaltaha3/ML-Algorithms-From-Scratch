{
 "cells": [
  {
   "cell_type": "code",
   "execution_count": 1,
   "id": "47b75313",
   "metadata": {},
   "outputs": [],
   "source": [
    "import numpy as np\n",
    "from sklearn.model_selection import train_test_split\n",
    "from sklearn import datasets"
   ]
  },
  {
   "cell_type": "code",
   "execution_count": 8,
   "id": "4f67c799",
   "metadata": {},
   "outputs": [],
   "source": [
    "class LogisticRegression:\n",
    "    \n",
    "    def __init__(self,lr=0.001,n_iters=1000):\n",
    "        \n",
    "        \"\"\"\n",
    "        Initialize logistics regression model\n",
    "        \n",
    "        Parameters:\n",
    "        lr(float) : learning rate for gradient descent\n",
    "        n_iters(int) : number of iterations for gradient descent \"\"\"\n",
    "        \n",
    "        self.lr = lr\n",
    "        self.n_iters = n_iters\n",
    "        self.weights = None\n",
    "        self.bias = None\n",
    "        \n",
    "    def _sigmoid(self,x):\n",
    "        \"\"\"\n",
    "        sigmoid activation function\n",
    "        \n",
    "        parameters:\n",
    "        x : (array-like) input values\n",
    "        \n",
    "        returns : (array-like) output of sigmoid function \"\"\"\n",
    "        \n",
    "        return 1/ (1 + np.exp(-x))\n",
    "        \n",
    "    def fit(self,X,y):\n",
    "        \"\"\"\n",
    "        Train the logistic regression model.\n",
    "        \n",
    "        parameters:\n",
    "        X : input features\n",
    "        y : target values  \"\"\"\n",
    "        \n",
    "        # initialize parameters\n",
    "        n_samples,n_features = X.shape\n",
    "        self.weights = np.zeros(n_features)\n",
    "        self.bias = 0\n",
    "        \n",
    "        # Gradient descent\n",
    "        for _ in range(self.n_iters):\n",
    "            linear_model = np.dot(X,self.weights) + self.bias\n",
    "            y_predicted = self._sigmoid(linear_model)\n",
    "            \n",
    "        # Compute gradients\n",
    "        dw = (1/n_samples) * np.dot(X.T,(y_predicted - y))\n",
    "        db = (1/n_samples) * np.sum(y_predicted - y)\n",
    "        \n",
    "        # Update parameters\n",
    "        self.weights -= self.lr * dw\n",
    "        self.bias -= self.lr * db\n",
    "        \n",
    "    def predict(self,X):\n",
    "        \"\"\"\n",
    "        Make predictrions using trained models.\n",
    "        \n",
    "        parameters:\n",
    "        X : input features\n",
    "        \n",
    "        returns: predicted class labels \"\"\"\n",
    "        \n",
    "        linear_model = np.dot(X,self.weights) + self.bias\n",
    "        y_predicted = self._sigmoid(linear_model)\n",
    "        y_predicted_cls = [1 if i>0.5 else 0 for i in y_predicted]\n",
    "        \n",
    "        return y_predicted_cls"
   ]
  },
  {
   "cell_type": "code",
   "execution_count": 9,
   "id": "dd931802",
   "metadata": {},
   "outputs": [],
   "source": [
    "def accuracy(y_true,y_pred):\n",
    "    \"\"\"\n",
    "    calculate accuracy of prediction.\n",
    "    \n",
    "    parameters:\n",
    "    y_true : true class labels\n",
    "    y_pred : predicted class labels\n",
    "    \n",
    "    returns: Accuracy of prediction \"\"\"\n",
    "    \n",
    "    accuracy = np.sum(y_true==y_pred) / len(y_true)\n",
    "    return accuracy"
   ]
  },
  {
   "cell_type": "code",
   "execution_count": 48,
   "id": "861263f0",
   "metadata": {},
   "outputs": [],
   "source": [
    "# Test logistics regression in breast cancer\n",
    "\n",
    "bc = datasets.load_breast_cancer()\n",
    "X , y = bc.data , bc.target"
   ]
  },
  {
   "cell_type": "code",
   "execution_count": 49,
   "id": "094f852e",
   "metadata": {},
   "outputs": [],
   "source": [
    "# split data into training and testing sets\n",
    "\n",
    "X_train , X_test , y_train , y_test = train_test_split(X,y,test_size=0.2)"
   ]
  },
  {
   "cell_type": "code",
   "execution_count": 50,
   "id": "c2a1d6b5",
   "metadata": {},
   "outputs": [],
   "source": [
    "# Initialize and train model\n",
    "\n",
    "regressor = LogisticRegression(lr=0.0001,n_iters=1000)\n",
    "regressor.fit(X_train,y_train)"
   ]
  },
  {
   "cell_type": "code",
   "execution_count": 51,
   "id": "778b6975",
   "metadata": {},
   "outputs": [],
   "source": [
    "# Make prediction\n",
    "predictions = regressor.predict(X_test)"
   ]
  },
  {
   "cell_type": "code",
   "execution_count": 47,
   "id": "9b781a95",
   "metadata": {},
   "outputs": [
    {
     "name": "stdout",
     "output_type": "stream",
     "text": [
      "Accuracy:  0.3684210526315789\n"
     ]
    }
   ],
   "source": [
    "print(\"Accuracy: \", accuracy(y_test, predictions))"
   ]
  },
  {
   "cell_type": "code",
   "execution_count": null,
   "id": "1ad4374c",
   "metadata": {},
   "outputs": [],
   "source": []
  },
  {
   "cell_type": "code",
   "execution_count": null,
   "id": "72cc5e27",
   "metadata": {},
   "outputs": [],
   "source": []
  }
 ],
 "metadata": {
  "kernelspec": {
   "display_name": "Python 3 (ipykernel)",
   "language": "python",
   "name": "python3"
  },
  "language_info": {
   "codemirror_mode": {
    "name": "ipython",
    "version": 3
   },
   "file_extension": ".py",
   "mimetype": "text/x-python",
   "name": "python",
   "nbconvert_exporter": "python",
   "pygments_lexer": "ipython3",
   "version": "3.11.7"
  }
 },
 "nbformat": 4,
 "nbformat_minor": 5
}
