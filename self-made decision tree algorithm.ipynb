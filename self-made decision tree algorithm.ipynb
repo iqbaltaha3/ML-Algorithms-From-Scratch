{
 "cells": [
  {
   "cell_type": "code",
   "execution_count": 1,
   "id": "1f3becca",
   "metadata": {},
   "outputs": [],
   "source": [
    "# import necessary libraries\n",
    "\n",
    "import numpy as np\n",
    "from sklearn.model_selection import train_test_split\n",
    "from sklearn import datasets\n",
    "from collections import Counter\n",
    "from sklearn.metrics import confusion_matrix\n",
    "import seaborn as sns"
   ]
  },
  {
   "cell_type": "code",
   "execution_count": 2,
   "id": "be4e9e61",
   "metadata": {},
   "outputs": [],
   "source": [
    "# Function to calculate Entropy \n",
    "\n",
    "def entropy(y):\n",
    "    hist = np.bincount(y)\n",
    "    ps = hist/len(y)\n",
    "    \n",
    "    return (-np.sum([p*np.log2(p) for p in ps if p>0]))"
   ]
  },
  {
   "cell_type": "code",
   "execution_count": 3,
   "id": "f6a4049d",
   "metadata": {},
   "outputs": [],
   "source": [
    "# Node class representing a node in the decision tree\n",
    "\n",
    "class Node:\n",
    "    \n",
    "    def __init__(self,feature=None,\n",
    "                 threshold=None , left=None,right=None,*,value=None):\n",
    "        \n",
    "        self.feature = feature\n",
    "        self.threshold = threshold\n",
    "        self.left = left\n",
    "        self.right = right\n",
    "        self.value = value\n",
    "        \n",
    "    # Check if node is a leaf\n",
    "    def is_leaf_node(self):\n",
    "        return(self.value is not None)"
   ]
  },
  {
   "cell_type": "code",
   "execution_count": 21,
   "id": "1662c2a9",
   "metadata": {},
   "outputs": [],
   "source": [
    "# Decision Tree class\n",
    "\n",
    "class DecisionTree:\n",
    "    \n",
    "    def __init__(self,min_samples_split=2,max_depth=100,n_feats=None):\n",
    "        self.min_samples_split = min_samples_split\n",
    "        self.max_depth = max_depth\n",
    "        self.n_feats = n_feats\n",
    "        self.root = None\n",
    "        \n",
    "    # Fit the DecisionTree on the training data\n",
    "    def fit(self,X,y):\n",
    "        self.n_feats = X.shape[1] if not self.n_feats else min(self.n_feats,X.shape[1])\n",
    "        self.root = self._grow_tree(X,y)\n",
    "        \n",
    "    # Recursive function to grow the Decision Tree\n",
    "    def _grow_tree(self,X,y,depth=0):\n",
    "        n_samples , n_features = X.shape\n",
    "        n_labels = len(np.unique(y))\n",
    "        \n",
    "        # Stopping criteris\n",
    "        if (depth >= self.max_depth or n_labels == 1 or n_samples < self.min_samples_split):\n",
    "            leaf_value = self._most_common_label(y)\n",
    "            return(Node(value=leaf_value))\n",
    "        \n",
    "        feat_idxs = np.random.choice(n_features,self.n_feats,replace = False)\n",
    "        \n",
    "        # Greedy search for best split\n",
    "        best_feat , best_thresh = self._best_criteria(X,y,feat_idxs)\n",
    "        \n",
    "        left_idxs, right_idxs = self._split(X[:, best_feat], best_thresh)\n",
    "        left = self._grow_tree(X[left_idxs,:], y[left_idxs], depth+1)\n",
    "        right = self._grow_tree(X[right_idxs,:], y[right_idxs], depth+1)\n",
    "        return(Node(best_feat, best_thresh, left, right))\n",
    "    \n",
    "    # Find the best split criteria\n",
    "    def _best_criteria(self , X,y,feat_idxs):\n",
    "        best_gain = -1\n",
    "        split_idx , split_thresh = None,None\n",
    "        for feat_idx in feat_idxs:\n",
    "            X_column = X[:,feat_idx]\n",
    "            thresholds = np.unique(X_column)\n",
    "            for threshold in thresholds:\n",
    "                gain = self._information_gain(y,X_column,threshold)\n",
    "                if(gain > best_gain):\n",
    "                    best_gain = gain\n",
    "                    split_idx = feat_idx\n",
    "                    split_thresh = threshold\n",
    "        return (split_idx , split_thresh)\n",
    "    \n",
    "    # Calculate information gain\n",
    "    def _information_gain(self, y, X_column, split_thresh):\n",
    "\n",
    "        # Parent entropy\n",
    "        parent_entropy = entropy(y)\n",
    "\n",
    "        # Generate split\n",
    "        left_idxs, right_idxs = self._split(X_column, split_thresh)\n",
    "        if(len(left_idxs) == 0 or len(right_idxs) == 0):\n",
    "            return 0\n",
    "\n",
    "        # Weighted average child entropy\n",
    "        n = len(y)\n",
    "        n_l, n_r = len(left_idxs), len(right_idxs)\n",
    "        e_l, e_r = entropy(y[left_idxs]), entropy(y[right_idxs])\n",
    "        child_entropy = (n_l/n)*e_l + (n_r/n)*e_r\n",
    "\n",
    "        # Return information gain\n",
    "        ig = parent_entropy - child_entropy\n",
    "        return ig\n",
    "\n",
    "        # Split data into left and right indices\n",
    "    def _split(self, X_column, split_thresh):\n",
    "        left_idxs = np.argwhere(X_column <= split_thresh).flatten()\n",
    "        right_idxs = np.argwhere(X_column > split_thresh).flatten()\n",
    "        return(left_idxs, right_idxs)\n",
    "\n",
    "  # Predict class labels for input samples\n",
    "    def predict(self, X):\n",
    "        return np.array([self._traverse_tree(x, self.root) if x is not None else 0 for x in X])\n",
    "\n",
    "  # Recursively traverse the decision tree\n",
    "    def _traverse_tree(self, x, node):\n",
    "        if(node.is_leaf_node()):\n",
    "            return(node.value)\n",
    "\n",
    "        if(x[node.feature] <= node.threshold):\n",
    "            return(self._traverse_tree(x, node.left))\n",
    "            return(self._traverse_tree(x, node.right))\n",
    "\n",
    "  # Find the most common label\n",
    "    def _most_common_label(self, y):\n",
    "        counter = Counter(y)\n",
    "        most_common = counter.most_common(1)[0][0]\n",
    "        return(most_common)\n",
    "\n",
    "# Function to calculate accuracy\n",
    "    def accuracy(y_true, y_pred):\n",
    "        accuracy = np.sum(y_true == y_pred) / len(y_true)\n",
    "        return(accuracy)\n",
    "\n"
   ]
  },
  {
   "cell_type": "code",
   "execution_count": 22,
   "id": "f1e7a8d8",
   "metadata": {},
   "outputs": [],
   "source": [
    "def accuracy(y_true, y_pred):\n",
    "    \"\"\"\n",
    "    Calculate accuracy of predictions.\n",
    "\n",
    "    Parameters:\n",
    "    y_true (array-like): True class labels.\n",
    "    y_pred (array-like): Predicted class labels.\n",
    "\n",
    "    Returns:\n",
    "    float: Accuracy of predictions.\n",
    "    \"\"\"\n",
    "    accuracy = np.sum(y_true == y_pred) / len(y_true)\n",
    "    return accuracy"
   ]
  },
  {
   "cell_type": "code",
   "execution_count": 38,
   "id": "dea58447",
   "metadata": {},
   "outputs": [
    {
     "name": "stdout",
     "output_type": "stream",
     "text": [
      "Accuracy: 0.7982456140350878\n"
     ]
    },
    {
     "data": {
      "text/plain": [
       "<Axes: >"
      ]
     },
     "execution_count": 38,
     "metadata": {},
     "output_type": "execute_result"
    },
    {
     "data": {
      "image/png": "[encoded data removed]",
      "text/plain": [
       "<Figure size 640x480 with 2 Axes>"
      ]
     },
     "metadata": {},
     "output_type": "display_data"
    }
   ],
   "source": [
    "# Load dataset and split into train and test sets\n",
    "data = datasets.load_breast_cancer()\n",
    "X = data.data\n",
    "y = data.target\n",
    "X_train, X_test, y_train, y_test = train_test_split(X, y, test_size=0.2, random_state=42)\n",
    "\n",
    "# Initialize and train decision tree classifier\n",
    "clf = DecisionTree(max_depth=20)\n",
    "clf.fit(X_train, y_train)\n",
    "\n",
    "# Make predictions\n",
    "y_pred = clf.predict(X_test)\n",
    "y_pred = np.where(y_pred == None, 0, y_pred)\n",
    "y_pred = y_pred.astype('int')\n",
    "\n",
    "# Calculate accuracy\n",
    "acc = accuracy(y_test, y_pred)\n",
    "print(\"Accuracy:\", acc)\n",
    "\n",
    "# Calculate and visualize confusion matrix\n",
    "cnf_matrix = confusion_matrix(y_test, y_pred)\n",
    "sns.heatmap(cnf_matrix, annot=True)"
   ]
  },
  {
   "cell_type": "code",
   "execution_count": 29,
   "id": "c19ab650",
   "metadata": {},
   "outputs": [
    {
     "data": {
      "text/plain": [
       "array([1, 0, 0, 1, 1, 0, 0, 0, 1, 1, 1, 0, 1, 0, 1, 0, 1, 1, 1, 0, 0, 1,\n",
       "       0, 1, 1, 1, 1, 1, 1, 0, 1, 1, 1, 1, 1, 1, 0, 1, 0, 1, 1, 0, 1, 1,\n",
       "       1, 1, 1, 1, 1, 1, 0, 0, 1, 1, 1, 1, 1, 0, 0, 1, 1, 0, 0, 1, 1, 1,\n",
       "       0, 0, 1, 1, 0, 0, 1, 0, 1, 1, 1, 0, 1, 1, 0, 1, 0, 0, 0, 0, 0, 0,\n",
       "       1, 1, 1, 1, 1, 1, 1, 1, 0, 0, 1, 0, 0, 1, 0, 0, 1, 1, 1, 0, 1, 1,\n",
       "       0, 1, 1, 0])"
      ]
     },
     "execution_count": 29,
     "metadata": {},
     "output_type": "execute_result"
    }
   ],
   "source": [
    "y_test"
   ]
  }
 ],
 "metadata": {
  "kernelspec": {
   "display_name": "Python 3 (ipykernel)",
   "language": "python",
   "name": "python3"
  },
  "language_info": {
   "codemirror_mode": {
    "name": "ipython",
    "version": 3
   },
   "file_extension": ".py",
   "mimetype": "text/x-python",
   "name": "python",
   "nbconvert_exporter": "python",
   "pygments_lexer": "ipython3",
   "version": "3.11.7"
  }
 },
 "nbformat": 4,
 "nbformat_minor": 5
}
